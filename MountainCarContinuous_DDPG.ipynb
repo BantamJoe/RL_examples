{
 "cells": [
  {
   "cell_type": "code",
   "execution_count": 1,
   "metadata": {},
   "outputs": [
    {
     "name": "stderr",
     "output_type": "stream",
     "text": [
      "C:\\Users\\kwea123\\Anaconda3\\lib\\site-packages\\h5py\\__init__.py:34: FutureWarning: Conversion of the second argument of issubdtype from `float` to `np.floating` is deprecated. In future, it will be treated as `np.float64 == np.dtype(float).type`.\n",
      "  from ._conv import register_converters as _register_converters\n"
     ]
    }
   ],
   "source": [
    "import numpy as np\n",
    "import tensorflow as tf\n",
    "import time\n",
    "import random"
   ]
  },
  {
   "cell_type": "code",
   "execution_count": 2,
   "metadata": {
    "collapsed": true
   },
   "outputs": [],
   "source": [
    "class Episode_experience():\n",
    "    def __init__(self):\n",
    "        self.memory = []\n",
    "        \n",
    "    def add(self, state, action, reward, next_state, done, goal):\n",
    "        self.memory += [(state, action, reward, next_state, done, goal)]\n",
    "        \n",
    "    def clear(self):\n",
    "        self.memory = []\n",
    "\n",
    "class DDPGAgent:\n",
    "    def __init__(self, state_size, action_size, action_low=-1, action_high=1, gamma=0.98,\n",
    "                 actor_learning_rate=0.01, critic_learning_rate=0.01, tau=1e-3):\n",
    "        self.state_size = state_size\n",
    "        self.action_size = action_size\n",
    "        self.action_low = action_low\n",
    "        self.action_high = action_high\n",
    "        self.gamma = gamma   # discount rate\n",
    "        self.memory = []\n",
    "        self.buffer_size = int(5e4)\n",
    "        self.actor_learning_rate = actor_learning_rate\n",
    "        self.critic_learning_rate = critic_learning_rate # often larger than actor_learning_rate\n",
    "        self.tau = tau # soft update\n",
    "        self.batch_size = 32\n",
    "        self._construct_nets()\n",
    "        \n",
    "    def _construct_nets(self):\n",
    "        tf.reset_default_graph()\n",
    "        self.sess = tf.Session()\n",
    "        \n",
    "        self.S = tf.placeholder(tf.float32, [None, self.state_size], 'state')\n",
    "        self.S_ = tf.placeholder(tf.float32, [None, self.state_size], 'next_state')\n",
    "        self.D = tf.placeholder(tf.float32, [None, ], 'done')\n",
    "        self.R = tf.placeholder(tf.float32, [None, ], 'r')\n",
    "\n",
    "        with tf.variable_scope('Actor'):\n",
    "            self.a = self._build_a(self.S, scope='eval')\n",
    "            self.a_ = self._build_a(self.S_, scope='target')\n",
    "        with tf.variable_scope('Critic'):\n",
    "            q = self._build_c(self.S, self.a, scope='eval')\n",
    "            q_ = self._build_c(self.S_, self.a_, scope='target')\n",
    "        \n",
    "        self.ae_params = tf.get_collection(tf.GraphKeys.GLOBAL_VARIABLES, scope='Actor/eval')\n",
    "        self.at_params = tf.get_collection(tf.GraphKeys.GLOBAL_VARIABLES, scope='Actor/target')\n",
    "        self.ce_params = tf.get_collection(tf.GraphKeys.GLOBAL_VARIABLES, scope='Critic/eval')\n",
    "        self.ct_params = tf.get_collection(tf.GraphKeys.GLOBAL_VARIABLES, scope='Critic/target')\n",
    "\n",
    "        self.soft_update_op = [[tf.assign(ta, (1 - self.tau) * ta + self.tau * ea), tf.assign(tc, (1 - self.tau) * tc + self.tau * ec)]\n",
    "                             for ta, ea, tc, ec in zip(self.at_params, self.ae_params, self.ct_params, self.ce_params)]\n",
    "\n",
    "        q_target = self.R + self.gamma * (1-self.D) * q_\n",
    "        # in the feed_dic for the td_error, the self.a should change to actions in memory\n",
    "        td_error_squared = tf.losses.mean_squared_error(q_target, q)\n",
    "        self.ctrain = tf.train.AdamOptimizer(self.critic_learning_rate).minimize(td_error_squared, var_list=self.ce_params)\n",
    "           \n",
    "        a_loss = - tf.reduce_mean(q)    # maximize the q\n",
    "        self.atrain = tf.train.AdamOptimizer(self.actor_learning_rate).minimize(a_loss, var_list=self.ae_params)\n",
    "        \n",
    "        self.sess.run(tf.global_variables_initializer())\n",
    "    \n",
    "    def _build_a(self, s, scope): # policy\n",
    "        with tf.variable_scope(scope):\n",
    "            net = tf.layers.dense(s, 64, tf.nn.relu, name='l1')\n",
    "            a = tf.layers.dense(net, self.action_size, tf.nn.tanh, name='a')\n",
    "            return a * (self.action_high-self.action_low)/2 + (self.action_high+self.action_low)/2\n",
    "    \n",
    "    def _build_c(self, s, a, scope): # Q value\n",
    "        with tf.variable_scope(scope):\n",
    "            net = tf.layers.dense(tf.concat([s, a], axis=1), 64, tf.nn.relu)\n",
    "            return tf.layers.dense(net, 1)  # Q(s,a)\n",
    "    \n",
    "    def choose_action(self, state, variance): # normal distribution\n",
    "        action = self.sess.run(self.a, {self.S: state})[0]\n",
    "        return np.clip(np.random.normal(action, variance), self.action_low, self.action_high)\n",
    "    \n",
    "    def remember(self, ep_experience):\n",
    "        self.memory += ep_experience.memory\n",
    "        if len(self.memory) > self.buffer_size:\n",
    "            self.memory = self.memory[-self.buffer_size:] # empty the first memories\n",
    "        \n",
    "    def replay(self, optimization_steps=1):\n",
    "        if len(self.memory) < self.batch_size: # if there's no enough transitions, do nothing\n",
    "            return\n",
    "        \n",
    "        for _ in range(optimization_steps):\n",
    "            minibatch = np.vstack(random.sample(self.memory, self.batch_size))\n",
    "            ss = np.vstack(minibatch[:,0])\n",
    "            acs = np.vstack(minibatch[:,1])\n",
    "            rs = minibatch[:,2]\n",
    "            nss = np.vstack(minibatch[:,3])\n",
    "            ds = minibatch[:,4]\n",
    "            gs = np.vstack(minibatch[:,5])\n",
    "            self.sess.run(self.atrain, {self.S: ss})\n",
    "            self.sess.run(self.ctrain, {self.S: ss, self.a: acs, self.R: rs,\n",
    "                                        self.S_: nss, self.D: ds})\n",
    "    \n",
    "    def update_target_net(self):\n",
    "        self.sess.run(self.soft_update_op)"
   ]
  },
  {
   "cell_type": "code",
   "execution_count": 3,
   "metadata": {},
   "outputs": [
    {
     "name": "stdout",
     "output_type": "stream",
     "text": [
      "\u001b[33mWARN: gym.spaces.Box autodetected dtype as <class 'numpy.float32'>. Please provide explicit dtype.\u001b[0m\n",
      "\u001b[33mWARN: gym.spaces.Box autodetected dtype as <class 'numpy.float32'>. Please provide explicit dtype.\u001b[0m\n"
     ]
    }
   ],
   "source": [
    "import gym\n",
    "env = gym.make('MountainCarContinuous-v0')"
   ]
  },
  {
   "cell_type": "code",
   "execution_count": 4,
   "metadata": {
    "collapsed": true
   },
   "outputs": [],
   "source": [
    "agent = DDPGAgent(2, 1, tau=0.9)"
   ]
  },
  {
   "cell_type": "code",
   "execution_count": 6,
   "metadata": {},
   "outputs": [
    {
     "name": "stdout",
     "output_type": "stream",
     "text": [
      "steps 8882 mean r -70.20 variance 2.74\n",
      "steps 18872 mean r -75.82 variance 2.48\n",
      "steps 28356 mean r -65.48 variance 2.26\n",
      "steps 37075 mean r -58.42 variance 2.07\n",
      "steps 39932 mean r -30.59 variance 2.01\n",
      "steps 42301 mean r -11.50 variance 1.96\n",
      "steps 44630 mean r 2.04 variance 1.92\n",
      "steps 46534 mean r 12.64 variance 1.88\n",
      "steps 48525 mean r 20.75 variance 1.85\n",
      "steps 50176 mean r 27.49 variance 1.82\n",
      "steps 51992 mean r 42.17 variance 1.78\n",
      "steps 53669 mean r 59.03 variance 1.75\n",
      "steps 55230 mean r 72.46 variance 1.73\n",
      "steps 57041 mean r 84.91 variance 1.70\n",
      "steps 58956 mean r 85.70 variance 1.66\n",
      "steps 60760 mean r 86.18 variance 1.63\n",
      "steps 62510 mean r 86.72 variance 1.60\n",
      "steps 64202 mean r 86.91 variance 1.58\n",
      "steps 65769 mean r 87.30 variance 1.55\n",
      "steps 67350 mean r 87.39 variance 1.53\n",
      "steps 68927 mean r 87.61 variance 1.51\n",
      "steps 70527 mean r 87.70 variance 1.48\n",
      "steps 72105 mean r 87.71 variance 1.46\n",
      "steps 73596 mean r 88.00 variance 1.44\n",
      "steps 75036 mean r 88.39 variance 1.42\n",
      "steps 76591 mean r 88.61 variance 1.39\n",
      "steps 78039 mean r 88.83 variance 1.37\n",
      "steps 79566 mean r 88.98 variance 1.35\n",
      "steps 81193 mean r 88.98 variance 1.33\n",
      "steps 82660 mean r 89.09 variance 1.31\n",
      "steps 84190 mean r 89.15 variance 1.29\n",
      "steps 85678 mean r 89.27 variance 1.27\n",
      "steps 87179 mean r 89.37 variance 1.25\n",
      "steps 88685 mean r 89.35 variance 1.24\n",
      "steps 90240 mean r 89.29 variance 1.22\n",
      "steps 91687 mean r 89.38 variance 1.20\n",
      "steps 93106 mean r 89.46 variance 1.18\n",
      "steps 94530 mean r 89.59 variance 1.17\n",
      "steps 95986 mean r 89.73 variance 1.15\n",
      "steps 97407 mean r 89.81 variance 1.13\n",
      "steps 98919 mean r 89.85 variance 1.12\n",
      "Training time : 191.66 s\n"
     ]
    }
   ],
   "source": [
    "# no param noise\n",
    "rs = [0.0]\n",
    "\n",
    "ep_experience = Episode_experience()\n",
    "state = env.reset()\n",
    "goal = np.array([0.]) # fixed\n",
    "variance = 3\n",
    "\n",
    "start_time = time.clock()\n",
    "for t in range(int(1e5)):\n",
    "    action = agent.choose_action([state], variance)\n",
    "    next_state, reward, done, _ = env.step(action)\n",
    "    ep_experience.add(state, action, reward, next_state, done, goal)\n",
    "    agent.remember(ep_experience)  \n",
    "    ep_experience.clear()\n",
    "    rs[-1]+=reward\n",
    "    state = next_state\n",
    "    if done:\n",
    "        state = env.reset()\n",
    "        rs += [0.0]\n",
    "    if t%50==0:\n",
    "        variance *= 0.9995\n",
    "        agent.replay(20)\n",
    "        agent.update_target_net()\n",
    "    if done and len(rs)%10==0:\n",
    "        print(\"steps\", t, \"mean r %.2f\"%np.mean(rs[-101:-1]), \"variance %.2f\"%variance)\n",
    "        \n",
    "print(\"Training time : %.2f\"%(time.clock()-start_time), \"s\")"
   ]
  },
  {
   "cell_type": "code",
   "execution_count": 9,
   "metadata": {},
   "outputs": [
    {
     "name": "stdout",
     "output_type": "stream",
     "text": [
      "reward : 93.10280089983304\n",
      "reward : 92.94764781156853\n",
      "reward : 93.06710769416671\n",
      "reward : 93.09285169078366\n",
      "reward : 93.01621074614499\n"
     ]
    }
   ],
   "source": [
    "actions = []\n",
    "for _ in range(5):\n",
    "    state = env.reset()\n",
    "    r = 0\n",
    "    while True:\n",
    "#         env.render()\n",
    "        action = agent.choose_action([state], 0)\n",
    "        next_state, reward, done, _ = env.step(action)\n",
    "        actions += [action]\n",
    "        r += reward\n",
    "        state = next_state\n",
    "        if done:\n",
    "            break\n",
    "    print(\"reward :\", r)"
   ]
  },
  {
   "cell_type": "code",
   "execution_count": null,
   "metadata": {
    "collapsed": true
   },
   "outputs": [],
   "source": []
  }
 ],
 "metadata": {
  "kernelspec": {
   "display_name": "Python 3",
   "language": "python",
   "name": "python3"
  },
  "language_info": {
   "codemirror_mode": {
    "name": "ipython",
    "version": 3
   },
   "file_extension": ".py",
   "mimetype": "text/x-python",
   "name": "python",
   "nbconvert_exporter": "python",
   "pygments_lexer": "ipython3",
   "version": "3.6.1"
  }
 },
 "nbformat": 4,
 "nbformat_minor": 2
}
