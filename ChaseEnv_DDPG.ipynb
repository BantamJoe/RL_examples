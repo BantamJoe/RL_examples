{
 "cells": [
  {
   "cell_type": "code",
   "execution_count": 1,
   "metadata": {},
   "outputs": [
    {
     "name": "stderr",
     "output_type": "stream",
     "text": [
      "C:\\Users\\kwea123\\Anaconda3\\lib\\site-packages\\h5py\\__init__.py:34: FutureWarning: Conversion of the second argument of issubdtype from `float` to `np.floating` is deprecated. In future, it will be treated as `np.float64 == np.dtype(float).type`.\n",
      "  from ._conv import register_converters as _register_converters\n"
     ]
    }
   ],
   "source": [
    "import numpy as np\n",
    "import tensorflow as tf\n",
    "import time\n",
    "import random"
   ]
  },
  {
   "cell_type": "code",
   "execution_count": 74,
   "metadata": {
    "collapsed": true
   },
   "outputs": [],
   "source": [
    "class Episode_experience():\n",
    "    def __init__(self):\n",
    "        self.memory = []\n",
    "        \n",
    "    def add(self, state, action, reward, next_state, done, goal):\n",
    "        self.memory += [(state, action, reward, next_state, done, goal)]\n",
    "        \n",
    "    def clear(self):\n",
    "        self.memory = []\n",
    "\n",
    "class DDPGAgent:\n",
    "    def __init__(self, state_size, action_size, goal_size, action_low=-1, action_high=1, gamma=0.98,\n",
    "                 actor_learning_rate=0.01, critic_learning_rate=0.01, tau=1e-3):\n",
    "        self.state_size = state_size\n",
    "        self.action_size = action_size\n",
    "        self.goal_size = goal_size\n",
    "        self.action_low = action_low\n",
    "        self.action_high = action_high\n",
    "        self.gamma = gamma   # discount rate\n",
    "        self.memory = []\n",
    "        self.buffer_size = int(5e4)\n",
    "        self.a_learning_rate = actor_learning_rate\n",
    "        self.c_learning_rate = critic_learning_rate # often larger than actor_learning_rate\n",
    "        self.tau = tau # soft update\n",
    "        self.batch_size = 32\n",
    "        self.gradient_norm_clip = None\n",
    "        self._construct_nets()\n",
    "        \n",
    "    def _construct_nets(self):\n",
    "        tf.reset_default_graph()\n",
    "        self.sess = tf.Session()\n",
    "        \n",
    "        self.S = tf.placeholder(tf.float32, [None, self.state_size], 'state')\n",
    "        self.S_ = tf.placeholder(tf.float32, [None, self.state_size], 'next_state')\n",
    "        self.G = tf.placeholder(tf.float32, [None, self.goal_size], 'goal')\n",
    "        self.D = tf.placeholder(tf.float32, [None, ], 'done')\n",
    "        self.R = tf.placeholder(tf.float32, [None, ], 'r')\n",
    "\n",
    "        with tf.variable_scope('Actor'):\n",
    "            self.a = self._build_a(self.S, self.G, scope='eval')\n",
    "            self.a_ = self._build_a(self.S_, self.G, scope='target')\n",
    "        with tf.variable_scope('Critic'):\n",
    "            self.q = self._build_c(self.S, self.a, self.G, scope='eval')\n",
    "            self.q_ = self._build_c(self.S_, self.a_, self.G, scope='target')\n",
    "        \n",
    "        self.ae_params = tf.get_collection(tf.GraphKeys.GLOBAL_VARIABLES, scope='Actor/eval')\n",
    "        self.at_params = tf.get_collection(tf.GraphKeys.GLOBAL_VARIABLES, scope='Actor/target')\n",
    "        self.ce_params = tf.get_collection(tf.GraphKeys.GLOBAL_VARIABLES, scope='Critic/eval')\n",
    "        self.ct_params = tf.get_collection(tf.GraphKeys.GLOBAL_VARIABLES, scope='Critic/target')\n",
    "\n",
    "        self.soft_update_op = [[tf.assign(ta, (1 - self.tau) * ta + self.tau * ea), tf.assign(tc, (1 - self.tau) * tc + self.tau * ec)]\n",
    "                             for ta, ea, tc, ec in zip(self.at_params, self.ae_params, self.ct_params, self.ce_params)]\n",
    "\n",
    "        q_target = self.R + self.gamma * (1-self.D) * self.q_\n",
    "#         q_target = tf.clip_by_value(q_target, -1/(1-self.gamma), 10)\n",
    "        \n",
    "        self.c_loss = tf.losses.mean_squared_error(q_target, self.q)\n",
    "        self.a_loss = - tf.reduce_mean(self.q)    # maximize the q\n",
    "        \n",
    "        if self.gradient_norm_clip is not None:\n",
    "            c_optimizer = tf.train.AdamOptimizer(self.c_learning_rate)\n",
    "            c_gradients = c_optimizer.compute_gradients(self.c_loss, var_list=self.ce_params)\n",
    "            for i, (grad, var) in enumerate(c_gradients):\n",
    "                if grad is not None:\n",
    "                    c_gradients[i] = (tf.clip_by_norm(grad, self.gradient_norm_clip), var)\n",
    "            self.c_train = c_optimizer.apply_gradients(c_gradients)\n",
    "            a_optimizer = tf.train.AdamOptimizer(self.a_learning_rate)\n",
    "            a_gradients = c_optimizer.compute_gradients(self.a_loss, var_list=self.ae_params)\n",
    "            for i, (grad, var) in enumerate(a_gradients):\n",
    "                if grad is not None:\n",
    "                    a_gradients[i] = (tf.clip_by_norm(grad, self.gradient_norm_clip), var)\n",
    "            self.a_train = a_optimizer.apply_gradients(a_gradients)\n",
    "        else:\n",
    "            self.c_train = tf.train.AdamOptimizer(self.c_learning_rate).minimize(self.c_loss, var_list=self.ce_params)\n",
    "            self.a_train = tf.train.AdamOptimizer(self.a_learning_rate).minimize(self.a_loss, var_list=self.ae_params)\n",
    "        \n",
    "        self.sess.run(tf.global_variables_initializer())\n",
    "    \n",
    "    def _build_a(self, s, g, scope): # policy\n",
    "        with tf.variable_scope(scope):\n",
    "            net = tf.concat([s, g], 1)\n",
    "            net = tf.layers.dense(net, 64, tf.nn.relu)\n",
    "            net = tf.layers.dense(net, 64, tf.nn.relu)\n",
    "            a = tf.layers.dense(net, self.action_size, tf.nn.tanh)\n",
    "            return a * (self.action_high-self.action_low)/2 + (self.action_high+self.action_low)/2\n",
    "    \n",
    "    def _build_c(self, s, a, g, scope): # Q value\n",
    "        with tf.variable_scope(scope):\n",
    "            net = tf.concat([s, a, g], 1)\n",
    "            net = tf.layers.dense(net, 64, tf.nn.relu)\n",
    "            net = tf.layers.dense(net, 64, tf.nn.relu)\n",
    "            return tf.layers.dense(net, 1)\n",
    "    \n",
    "    def choose_action(self, state, goal, variance): # normal distribution\n",
    "        action = self.sess.run(self.a, {self.S: state, self.G: goal})[0]\n",
    "        return np.clip(np.random.normal(action, variance), self.action_low, self.action_high)\n",
    "    \n",
    "    def remember(self, ep_experience):\n",
    "        self.memory += ep_experience.memory\n",
    "        if len(self.memory) > self.buffer_size:\n",
    "            self.memory = self.memory[-self.buffer_size:] # empty the first memories\n",
    "        \n",
    "    def replay(self, optimization_steps=1):\n",
    "        if len(self.memory) < self.batch_size: # if there's no enough transitions, do nothing\n",
    "            return\n",
    "        \n",
    "        a_losses = 0\n",
    "        c_losses = 0\n",
    "        for _ in range(optimization_steps):\n",
    "            minibatch = np.vstack(random.sample(self.memory, self.batch_size))\n",
    "            ss = np.vstack(minibatch[:,0])\n",
    "            acs = np.vstack(minibatch[:,1])\n",
    "            rs = minibatch[:,2]\n",
    "            nss = np.vstack(minibatch[:,3])\n",
    "            ds = minibatch[:,4]\n",
    "            gs = np.vstack(minibatch[:,5])\n",
    "            a_loss, c_loss, _, _ = self.sess.run([self.a_loss, self.c_loss, self.a_train, self.c_train],\n",
    "                                                 {self.S: ss, self.a: acs, self.R: rs,\n",
    "                                                  self.S_: nss, self.D: ds, self.G: gs})\n",
    "            a_losses += a_loss\n",
    "            c_losses += c_loss\n",
    "        return a_losses/optimization_steps, c_losses/optimization_steps\n",
    "    \n",
    "    def update_target_net(self):\n",
    "        self.sess.run(self.soft_update_op)"
   ]
  },
  {
   "cell_type": "code",
   "execution_count": 65,
   "metadata": {
    "collapsed": true
   },
   "outputs": [],
   "source": [
    "class ChaseEnv():\n",
    "    def __init__(self, size=10, reward_type='sparse'):\n",
    "        self.size = size\n",
    "        self.reward_type = reward_type\n",
    "        self.thr = 0.5 # distance threshold\n",
    "    def reset(self):\n",
    "        self.goal = self.size * (2*np.random.random(2)-1) # range (-size~size)\n",
    "        self.state = self.size * (2*np.random.random(2)-1)\n",
    "        return np.copy(self.state/self.size), np.copy(self.goal/self.size)\n",
    "    def reward_func(self, state, goal):\n",
    "        good_done = np.linalg.norm(state-goal) <= self.thr\n",
    "        bad_done = np.max(np.abs(state)) > self.size\n",
    "        if self.reward_type == 'sparse':\n",
    "            reward = 0 if good_done else -1\n",
    "        else:\n",
    "            reward = 10 if good_done else -10 if bad_done else -np.linalg.norm(state-goal)/200\n",
    "        return good_done or bad_done, reward\n",
    "    def step(self, action, scale=4):\n",
    "        self.state += action/scale\n",
    "        done, reward = self.reward_func(self.state, self.goal)\n",
    "        return np.copy(self.state/self.size), reward, done\n",
    "    def render(self):\n",
    "        print(\"\\rstate :\", np.array_str(self.state), \"goal :\", np.array_str(self.goal),end=' '*10)"
   ]
  },
  {
   "cell_type": "code",
   "execution_count": 69,
   "metadata": {
    "collapsed": true
   },
   "outputs": [],
   "source": [
    "size = 5\n",
    "env = ChaseEnv(size=size, reward_type='dense')"
   ]
  },
  {
   "cell_type": "code",
   "execution_count": 83,
   "metadata": {
    "collapsed": true
   },
   "outputs": [],
   "source": [
    "agent = DDPGAgent(2, 2, 2, actor_learning_rate=1e-4, critic_learning_rate=2e-4, tau=0.1)\n",
    "variance = 3"
   ]
  },
  {
   "cell_type": "code",
   "execution_count": 119,
   "metadata": {},
   "outputs": [
    {
     "name": "stdout",
     "output_type": "stream",
     "text": [
      "epoch 100 success rate 0.85 ep_mean_r 6.67 exploration 0.00          Training time : 44.07 s\n"
     ]
    }
   ],
   "source": [
    "use_her = False # use hindsight experience replay or not\n",
    "num_epochs = 100\n",
    "num_episodes = 20\n",
    "episode_length = size*50\n",
    "optimization_steps = 20\n",
    "K = 4 # number of random future states\n",
    "\n",
    "a_losses = []\n",
    "c_losses = []\n",
    "ep_mean_r = []\n",
    "success_rate = []\n",
    "\n",
    "ep_experience = Episode_experience()\n",
    "ep_experience_her = Episode_experience()\n",
    "\n",
    "start = time.clock()\n",
    "total_step = 0\n",
    "for i in range(num_epochs):\n",
    "    successes = 0\n",
    "    ep_total_r = 0\n",
    "    for n in range(num_episodes):\n",
    "        state, goal = env.reset()\n",
    "        for ep_step in range(episode_length):\n",
    "            total_step += 1\n",
    "            action = agent.choose_action([state-goal], [np.zeros(2)], variance)\n",
    "            next_state, reward, done = env.step(action)\n",
    "            ep_total_r += reward\n",
    "            ep_experience.add(state-goal, action, reward, next_state-goal, done, goal)\n",
    "            state = next_state\n",
    "            if total_step % 50 == 0 or ep_step==episode_length-1:\n",
    "#                 if use_her: # The strategy can be changed here\n",
    "#                     for t in range(len(ep_experience.memory)):\n",
    "#                         for _ in range(K):\n",
    "#                             future = np.random.randint(t, len(ep_experience.memory))\n",
    "#                             goal_ = ep_experience.memory[future][3] # next_state of future\n",
    "#                             state_ = ep_experience.memory[t][0]\n",
    "#                             action_ = ep_experience.memory[t][1]\n",
    "#                             next_state_ = ep_experience.memory[t][3]\n",
    "#                             done_, reward_ = env.reward_func(next_state_, goal_)\n",
    "#                             ep_experience_her.add(state_, action_, reward_, next_state_, done_, goal_)\n",
    "                agent.remember(ep_experience)\n",
    "#                 agent.remember(ep_experience_her)\n",
    "                ep_experience.clear()\n",
    "#                 ep_experience_her.clear()\n",
    "                variance *= 0.9995\n",
    "                a_loss, c_loss = agent.replay(optimization_steps)\n",
    "                a_losses += [a_loss]\n",
    "                c_losses += [c_loss]\n",
    "                agent.update_target_net()\n",
    "            if done:\n",
    "                break\n",
    "        successes += reward>=0 and done\n",
    "\n",
    "    success_rate.append(successes/num_episodes)\n",
    "    ep_mean_r.append(ep_total_r/num_episodes)\n",
    "    print(\"\\repoch\", i+1, \"success rate\", success_rate[-1], \"ep_mean_r %.2f\"%ep_mean_r[-1], 'exploration %.2f'%variance, end=' '*10)\n",
    "\n",
    "print(\"Training time : %.2f\"%(time.clock()-start), \"s\")"
   ]
  },
  {
   "cell_type": "code",
   "execution_count": 120,
   "metadata": {},
   "outputs": [
    {
     "data": {
      "image/png": "[encoded data removed]",
      "text/plain": [
       "<matplotlib.figure.Figure at 0x2dc294d6128>"
      ]
     },
     "metadata": {},
     "output_type": "display_data"
    }
   ],
   "source": [
    "import matplotlib.pyplot as plt\n",
    "plt.plot(success_rate)\n",
    "plt.show()"
   ]
  },
  {
   "cell_type": "code",
   "execution_count": 121,
   "metadata": {},
   "outputs": [
    {
     "data": {
      "image/png": "[encoded data removed]",
      "text/plain": [
       "<matplotlib.figure.Figure at 0x2dc273d3940>"
      ]
     },
     "metadata": {},
     "output_type": "display_data"
    }
   ],
   "source": [
    "plt.plot(a_losses)\n",
    "plt.plot(c_losses)\n",
    "plt.show()"
   ]
  },
  {
   "cell_type": "code",
   "execution_count": 122,
   "metadata": {},
   "outputs": [
    {
     "data": {
      "image/png": "[encoded data removed]",
      "text/plain": [
       "<matplotlib.figure.Figure at 0x2dc1fd55748>"
      ]
     },
     "metadata": {},
     "output_type": "display_data"
    }
   ],
   "source": [
    "plt.plot(ep_mean_r)\n",
    "plt.show()"
   ]
  },
  {
   "cell_type": "code",
   "execution_count": 125,
   "metadata": {},
   "outputs": [
    {
     "name": "stdout",
     "output_type": "stream",
     "text": [
      "state : [ 2.17724966 -0.44375302] goal : [ 1.8724425  -0.80889734]          reward : 9.83007112257508\n",
      "state : [-1.8060751  -2.81693348] goal : [-2.09279108 -2.85848294]          reward : 9.703307799994331\n",
      "state : [-3.0663577   2.34577062] goal : [-3.37595561  2.30496566]          reward : 9.530124290670871\n",
      "state : [ 3.0960813 -4.511302 ] goal : [ 2.86445989 -4.87140822]          reward : 9.895281363156835\n",
      "state : [-3.17618648  3.4597291 ] goal : [-3.3364675   3.19431628]          reward : 9.973465010457238\n"
     ]
    }
   ],
   "source": [
    "for _ in range(5):\n",
    "    state, goal = env.reset()\n",
    "    r = 0\n",
    "    for _ in range(episode_length):\n",
    "        env.render()\n",
    "        action = agent.choose_action([state-goal], [np.zeros(2)], 0)\n",
    "        next_state, reward, done = env.step(action)\n",
    "        r += reward\n",
    "        state = next_state\n",
    "        time.sleep(0.4)\n",
    "        if done:\n",
    "            env.render()\n",
    "            break\n",
    "    print(\"reward :\", r)"
   ]
  },
  {
   "cell_type": "code",
   "execution_count": null,
   "metadata": {
    "collapsed": true
   },
   "outputs": [],
   "source": []
  }
 ],
 "metadata": {
  "kernelspec": {
   "display_name": "Python 3",
   "language": "python",
   "name": "python3"
  },
  "language_info": {
   "codemirror_mode": {
    "name": "ipython",
    "version": 3
   },
   "file_extension": ".py",
   "mimetype": "text/x-python",
   "name": "python",
   "nbconvert_exporter": "python",
   "pygments_lexer": "ipython3",
   "version": "3.6.1"
  }
 },
 "nbformat": 4,
 "nbformat_minor": 2
}
