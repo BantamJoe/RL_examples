{
 "cells": [
  {
   "cell_type": "code",
   "execution_count": 1,
   "metadata": {},
   "outputs": [
    {
     "name": "stderr",
     "output_type": "stream",
     "text": [
      "C:\\Users\\kwea123\\Anaconda3\\lib\\site-packages\\h5py\\__init__.py:34: FutureWarning: Conversion of the second argument of issubdtype from `float` to `np.floating` is deprecated. In future, it will be treated as `np.float64 == np.dtype(float).type`.\n",
      "  from ._conv import register_converters as _register_converters\n"
     ]
    }
   ],
   "source": [
    "import numpy as np\n",
    "import tensorflow as tf\n",
    "import time\n",
    "import random"
   ]
  },
  {
   "cell_type": "code",
   "execution_count": 2,
   "metadata": {
    "collapsed": true
   },
   "outputs": [],
   "source": [
    "class Episode_experience():\n",
    "    def __init__(self):\n",
    "        self.memory = []\n",
    "        \n",
    "    def add(self, state, action, reward, next_state, done):\n",
    "        self.memory += [(state, action, reward, next_state, done)]\n",
    "        \n",
    "    def clear(self):\n",
    "        self.memory = []\n",
    "\n",
    "class DDPGAgent:\n",
    "    def __init__(self, state_size, action_size, action_low=-1, action_high=1, gamma=0.98,\n",
    "                 actor_learning_rate=1e-3, critic_learning_rate=1e-3, tau=1e-3):\n",
    "        self.state_size = state_size\n",
    "        self.action_size = action_size\n",
    "        self.action_low = action_low\n",
    "        self.action_high = action_high\n",
    "        self.gamma = gamma   # discount rate\n",
    "        self.memory = []\n",
    "        self.buffer_size = int(5e4)\n",
    "        self.actor_learning_rate = actor_learning_rate\n",
    "        self.critic_learning_rate = critic_learning_rate # often larger than actor_learning_rate\n",
    "        self.tau = tau # soft update\n",
    "        self.batch_size = 64\n",
    "        self._construct_nets()\n",
    "        \n",
    "    def _construct_nets(self):\n",
    "        tf.reset_default_graph()\n",
    "        self.sess = tf.Session()\n",
    "        \n",
    "        self.S = tf.placeholder(tf.float32, [None, self.state_size], 'state')\n",
    "        self.S_ = tf.placeholder(tf.float32, [None, self.state_size], 'next_state')\n",
    "        self.D = tf.placeholder(tf.float32, [None, 1], 'done')\n",
    "        self.R = tf.placeholder(tf.float32, [None, 1], 'r')\n",
    "\n",
    "        with tf.variable_scope('Actor'):\n",
    "            self.a = self._build_a(self.S, scope='eval')\n",
    "            self.a_ = self._build_a(self.S_, scope='target')\n",
    "        with tf.variable_scope('Critic'):\n",
    "            q = self._build_c(self.S, self.a, scope='eval')\n",
    "            q_ = self._build_c(self.S_, self.a_, scope='target')\n",
    "        \n",
    "        self.ae_params = tf.get_collection(tf.GraphKeys.GLOBAL_VARIABLES, scope='Actor/eval')\n",
    "        self.at_params = tf.get_collection(tf.GraphKeys.GLOBAL_VARIABLES, scope='Actor/target')\n",
    "        self.ce_params = tf.get_collection(tf.GraphKeys.GLOBAL_VARIABLES, scope='Critic/eval')\n",
    "        self.ct_params = tf.get_collection(tf.GraphKeys.GLOBAL_VARIABLES, scope='Critic/target')\n",
    "\n",
    "        self.soft_update_op = [[tf.assign(ta, (1 - self.tau) * ta + self.tau * ea), tf.assign(tc, (1 - self.tau) * tc + self.tau * ec)]\n",
    "                             for ta, ea, tc, ec in zip(self.at_params, self.ae_params, self.ct_params, self.ce_params)]\n",
    "\n",
    "        q_target = self.R + self.gamma * q_\n",
    "        td_error_squared = tf.losses.mean_squared_error(q_target, q)\n",
    "        self.ctrain = tf.train.AdamOptimizer(self.critic_learning_rate).minimize(td_error_squared, var_list=self.ce_params)\n",
    "        \n",
    "        a_loss = - tf.reduce_mean(q)    # maximize the q\n",
    "        self.atrain = tf.train.AdamOptimizer(self.actor_learning_rate).minimize(a_loss, var_list=self.ae_params)\n",
    "        \n",
    "        self.sess.run(tf.global_variables_initializer())\n",
    "    \n",
    "    def _build_a(self, s, scope): # policy\n",
    "        with tf.variable_scope(scope):\n",
    "            net = tf.layers.dense(s, 32, tf.nn.relu)\n",
    "            a = tf.layers.dense(net, self.action_size, tf.nn.tanh, name='a')\n",
    "            return a * (self.action_high-self.action_low)/2 + (self.action_high+self.action_low)/2\n",
    "    \n",
    "    def _build_c(self, s, a, scope): # Q value\n",
    "        with tf.variable_scope(scope):\n",
    "            net = tf.layers.dense(tf.concat([s, a], axis=1), 32, tf.nn.relu)\n",
    "            return tf.layers.dense(net, 1)  # Q(s,a)\n",
    "    \n",
    "    def choose_action(self, state, variance): # normal distribution\n",
    "        action = self.sess.run(self.a, {self.S: state})[0]\n",
    "        return np.clip(np.random.normal(action, variance), self.action_low, self.action_high)\n",
    "    \n",
    "    def remember(self, ep_experience):\n",
    "        self.memory += ep_experience.memory\n",
    "        if len(self.memory) > self.buffer_size:\n",
    "            self.memory = self.memory[-self.buffer_size:] # empty the first memories\n",
    "        \n",
    "    def replay(self, optimization_steps=1):\n",
    "        if len(self.memory) < self.batch_size: # if there's no enough transitions, do nothing\n",
    "            return\n",
    "        \n",
    "        for _ in range(optimization_steps):\n",
    "            minibatch = np.vstack(random.sample(self.memory, self.batch_size))\n",
    "            ss = np.vstack(minibatch[:,0])\n",
    "            acs = np.vstack(minibatch[:,1])\n",
    "            rs = np.vstack(minibatch[:,2])\n",
    "            nss = np.vstack(minibatch[:,3])\n",
    "            ds = np.vstack(minibatch[:,4])\n",
    "            self.sess.run(self.atrain, {self.S: ss})\n",
    "            self.sess.run(self.ctrain, {self.S: ss, self.a: acs, self.R: rs,\n",
    "                                        self.S_: nss, self.D: ds})\n",
    "    \n",
    "    def update_target_net(self):\n",
    "        self.sess.run(self.soft_update_op)"
   ]
  },
  {
   "cell_type": "code",
   "execution_count": 3,
   "metadata": {
    "scrolled": true
   },
   "outputs": [
    {
     "name": "stdout",
     "output_type": "stream",
     "text": [
      "\u001b[33mWARN: gym.spaces.Box autodetected dtype as <class 'numpy.float32'>. Please provide explicit dtype.\u001b[0m\n",
      "\u001b[33mWARN: gym.spaces.Box autodetected dtype as <class 'numpy.float32'>. Please provide explicit dtype.\u001b[0m\n"
     ]
    }
   ],
   "source": [
    "import gym\n",
    "env = gym.make('Pendulum-v0')"
   ]
  },
  {
   "cell_type": "code",
   "execution_count": 4,
   "metadata": {},
   "outputs": [],
   "source": [
    "agent = DDPGAgent(3, 1, action_low=-2, action_high=2, tau=0.1)"
   ]
  },
  {
   "cell_type": "code",
   "execution_count": 5,
   "metadata": {},
   "outputs": [
    {
     "name": "stdout",
     "output_type": "stream",
     "text": [
      "steps 1799 mean r -1345.00 variance 2.95\n",
      "steps 3799 mean r -1417.73 variance 2.89\n",
      "steps 5799 mean r -1374.66 variance 2.83\n",
      "steps 7799 mean r -1327.30 variance 2.77\n",
      "steps 9799 mean r -1271.10 variance 2.72\n",
      "steps 11799 mean r -1259.13 variance 2.67\n",
      "steps 13799 mean r -1251.02 variance 2.61\n",
      "steps 15799 mean r -1249.86 variance 2.56\n",
      "steps 17799 mean r -1243.24 variance 2.51\n",
      "steps 19799 mean r -1205.25 variance 2.46\n",
      "steps 21799 mean r -1151.89 variance 2.41\n",
      "steps 23799 mean r -1085.62 variance 2.36\n",
      "steps 25799 mean r -1057.91 variance 2.32\n",
      "steps 27799 mean r -1027.57 variance 2.27\n",
      "steps 29799 mean r -981.96 variance 2.23\n",
      "steps 31799 mean r -925.45 variance 2.18\n",
      "steps 33799 mean r -892.51 variance 2.14\n",
      "steps 35799 mean r -862.26 variance 2.10\n",
      "steps 37799 mean r -804.31 variance 2.06\n",
      "steps 39799 mean r -767.44 variance 2.01\n",
      "steps 41799 mean r -764.63 variance 1.97\n",
      "steps 43799 mean r -732.08 variance 1.94\n",
      "steps 45799 mean r -685.02 variance 1.90\n",
      "steps 47799 mean r -635.23 variance 1.86\n",
      "steps 49799 mean r -613.05 variance 1.82\n",
      "steps 51799 mean r -592.80 variance 1.79\n",
      "steps 53799 mean r -561.51 variance 1.75\n",
      "steps 55799 mean r -510.23 variance 1.72\n",
      "steps 57799 mean r -492.40 variance 1.68\n",
      "steps 59799 mean r -485.51 variance 1.65\n",
      "steps 61799 mean r -443.66 variance 1.62\n",
      "steps 63799 mean r -418.25 variance 1.58\n",
      "steps 65799 mean r -394.16 variance 1.55\n",
      "steps 67799 mean r -395.51 variance 1.52\n",
      "steps 69799 mean r -408.35 variance 1.49\n",
      "steps 71799 mean r -416.64 variance 1.46\n",
      "steps 73799 mean r -437.25 variance 1.43\n",
      "steps 75799 mean r -462.34 variance 1.41\n",
      "steps 77799 mean r -491.57 variance 1.38\n",
      "steps 79799 mean r -510.11 variance 1.35\n",
      "steps 81799 mean r -520.08 variance 1.32\n",
      "steps 83799 mean r -546.09 variance 1.30\n",
      "steps 85799 mean r -536.73 variance 1.27\n",
      "steps 87799 mean r -521.37 variance 1.25\n",
      "steps 89799 mean r -492.80 variance 1.22\n",
      "steps 91799 mean r -470.10 variance 1.20\n",
      "steps 93799 mean r -422.25 variance 1.17\n",
      "steps 95799 mean r -441.52 variance 1.15\n",
      "steps 97799 mean r -409.32 variance 1.13\n",
      "steps 99799 mean r -393.82 variance 1.11\n",
      "Training time : 166.77 s\n"
     ]
    }
   ],
   "source": [
    "# no param noise\n",
    "rs = [0.0]\n",
    "\n",
    "ep_experience = Episode_experience()\n",
    "state = env.reset()\n",
    "variance = 3\n",
    "\n",
    "start_time = time.clock()\n",
    "for t in range(int(1e5)):\n",
    "    action = agent.choose_action([state], variance)\n",
    "    next_state, reward, done, _ = env.step(action)\n",
    "    ep_experience.add(state, action, reward, next_state, done)\n",
    "    agent.remember(ep_experience)\n",
    "    ep_experience.clear()\n",
    "    rs[-1]+=reward\n",
    "    state = next_state\n",
    "    if done:\n",
    "        state = env.reset()\n",
    "        rs += [0.0]\n",
    "    if t%50==0:\n",
    "        variance *= 0.9995\n",
    "        agent.replay(20)\n",
    "        agent.update_target_net()\n",
    "    if done and len(rs)%10==0:\n",
    "        print(\"steps\", t, \"mean r %.2f\"%np.mean(rs[-101:-1]), \"variance %.2f\"%variance)\n",
    "        \n",
    "print(\"Training time : %.2f\"%(time.clock()-start_time), \"s\")"
   ]
  },
  {
   "cell_type": "code",
   "execution_count": 6,
   "metadata": {},
   "outputs": [
    {
     "name": "stdout",
     "output_type": "stream",
     "text": [
      "reward : -240.84491210553813\n",
      "reward : -118.7125619502614\n",
      "reward : -233.52466355028764\n",
      "reward : -128.06473817218165\n",
      "reward : -225.27557628067126\n"
     ]
    }
   ],
   "source": [
    "actions = []\n",
    "for _ in range(5):\n",
    "    state = env.reset()\n",
    "    r = 0\n",
    "    while True:\n",
    "#         env.render()\n",
    "        action = agent.choose_action([state], 0)\n",
    "        next_state, reward, done, _ = env.step(action)\n",
    "        r += reward\n",
    "        state = next_state\n",
    "        if done:\n",
    "            break\n",
    "    print(\"reward :\", r)"
   ]
  },
  {
   "cell_type": "code",
   "execution_count": null,
   "metadata": {
    "collapsed": true
   },
   "outputs": [],
   "source": []
  }
 ],
 "metadata": {
  "kernelspec": {
   "display_name": "Python 3",
   "language": "python",
   "name": "python3"
  },
  "language_info": {
   "codemirror_mode": {
    "name": "ipython",
    "version": 3
   },
   "file_extension": ".py",
   "mimetype": "text/x-python",
   "name": "python",
   "nbconvert_exporter": "python",
   "pygments_lexer": "ipython3",
   "version": "3.6.1"
  }
 },
 "nbformat": 4,
 "nbformat_minor": 2
}
