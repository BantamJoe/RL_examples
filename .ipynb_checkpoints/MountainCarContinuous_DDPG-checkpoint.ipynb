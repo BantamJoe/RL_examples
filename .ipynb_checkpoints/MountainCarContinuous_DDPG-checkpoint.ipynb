{
 "cells": [
  {
   "cell_type": "code",
   "execution_count": 1,
   "metadata": {},
   "outputs": [
    {
     "name": "stderr",
     "output_type": "stream",
     "text": [
      "C:\\Users\\kwea123\\Anaconda3\\lib\\site-packages\\h5py\\__init__.py:34: FutureWarning: Conversion of the second argument of issubdtype from `float` to `np.floating` is deprecated. In future, it will be treated as `np.float64 == np.dtype(float).type`.\n",
      "  from ._conv import register_converters as _register_converters\n"
     ]
    }
   ],
   "source": [
    "import numpy as np\n",
    "import tensorflow as tf\n",
    "import time\n",
    "import random"
   ]
  },
  {
   "cell_type": "code",
   "execution_count": 2,
   "metadata": {
    "collapsed": true
   },
   "outputs": [],
   "source": [
    "class Episode_experience():\n",
    "    def __init__(self):\n",
    "        self.memory = []\n",
    "        \n",
    "    def add(self, state, action, reward, next_state, done):\n",
    "        self.memory += [(state, action, reward, next_state, done)]\n",
    "        \n",
    "    def clear(self):\n",
    "        self.memory = []\n",
    "\n",
    "class DDPGAgent:\n",
    "    def __init__(self, state_size, action_size, action_low=-1, action_high=1, gamma=0.98,\n",
    "                 actor_learning_rate=0.01, critic_learning_rate=0.01, tau=1e-3):\n",
    "        self.state_size = state_size\n",
    "        self.action_size = action_size\n",
    "        self.action_low = action_low\n",
    "        self.action_high = action_high\n",
    "        self.gamma = gamma   # discount rate\n",
    "        self.memory = []\n",
    "        self.buffer_size = int(5e4)\n",
    "        self.actor_learning_rate = actor_learning_rate\n",
    "        self.critic_learning_rate = critic_learning_rate # often larger than actor_learning_rate\n",
    "        self.tau = tau # soft update\n",
    "        self.batch_size = 32\n",
    "        self._construct_nets()\n",
    "        \n",
    "    def _construct_nets(self):\n",
    "        tf.reset_default_graph()\n",
    "        self.sess = tf.Session()\n",
    "        \n",
    "        self.S = tf.placeholder(tf.float32, [None, self.state_size], 'state')\n",
    "        self.S_ = tf.placeholder(tf.float32, [None, self.state_size], 'next_state')\n",
    "        self.D = tf.placeholder(tf.float32, [None, 1], 'done')\n",
    "        self.R = tf.placeholder(tf.float32, [None, 1], 'r')\n",
    "\n",
    "        with tf.variable_scope('Actor'):\n",
    "            self.a = self._build_a(self.S, scope='eval')\n",
    "            self.a_ = self._build_a(self.S_, scope='target')\n",
    "        with tf.variable_scope('Critic'):\n",
    "            q = self._build_c(self.S, self.a, scope='eval')\n",
    "            q_ = self._build_c(self.S_, self.a_, scope='target')\n",
    "        \n",
    "        self.ae_params = tf.get_collection(tf.GraphKeys.GLOBAL_VARIABLES, scope='Actor/eval')\n",
    "        self.at_params = tf.get_collection(tf.GraphKeys.GLOBAL_VARIABLES, scope='Actor/target')\n",
    "        self.ce_params = tf.get_collection(tf.GraphKeys.GLOBAL_VARIABLES, scope='Critic/eval')\n",
    "        self.ct_params = tf.get_collection(tf.GraphKeys.GLOBAL_VARIABLES, scope='Critic/target')\n",
    "\n",
    "        self.soft_update_op = [[tf.assign(ta, (1 - self.tau) * ta + self.tau * ea), tf.assign(tc, (1 - self.tau) * tc + self.tau * ec)]\n",
    "                             for ta, ea, tc, ec in zip(self.at_params, self.ae_params, self.ct_params, self.ce_params)]\n",
    "\n",
    "        q_target = self.R + self.gamma * (1-self.D) * q_\n",
    "        td_error_squared = tf.losses.mean_squared_error(q_target, q)\n",
    "        self.ctrain = tf.train.AdamOptimizer(self.critic_learning_rate).minimize(td_error_squared, var_list=self.ce_params)\n",
    "           \n",
    "        a_loss = - tf.reduce_mean(q)    # maximize the q\n",
    "        self.atrain = tf.train.AdamOptimizer(self.actor_learning_rate).minimize(a_loss, var_list=self.ae_params)\n",
    "        \n",
    "        self.sess.run(tf.global_variables_initializer())\n",
    "    \n",
    "    def _build_a(self, s, scope): # policy\n",
    "        with tf.variable_scope(scope):\n",
    "            net = tf.layers.dense(s, 64, tf.nn.relu, name='l1')\n",
    "            a = tf.layers.dense(net, self.action_size, tf.nn.tanh, name='a')\n",
    "            return a * (self.action_high-self.action_low)/2 + (self.action_high+self.action_low)/2\n",
    "    \n",
    "    def _build_c(self, s, a, scope): # Q value\n",
    "        with tf.variable_scope(scope):\n",
    "            net = tf.layers.dense(tf.concat([s, a], axis=1), 64, tf.nn.relu)\n",
    "            return tf.layers.dense(net, 1)  # Q(s,a)\n",
    "    \n",
    "    def choose_action(self, state, variance): # normal distribution\n",
    "        action = self.sess.run(self.a, {self.S: state})[0]\n",
    "        return np.clip(np.random.normal(action, variance), self.action_low, self.action_high)\n",
    "    \n",
    "    def remember(self, ep_experience):\n",
    "        self.memory += ep_experience.memory\n",
    "        if len(self.memory) > self.buffer_size:\n",
    "            self.memory = self.memory[-self.buffer_size:] # empty the first memories\n",
    "        \n",
    "    def replay(self, optimization_steps=1):\n",
    "        if len(self.memory) < self.batch_size: # if there's no enough transitions, do nothing\n",
    "            return\n",
    "        \n",
    "        for _ in range(optimization_steps):\n",
    "            minibatch = np.vstack(random.sample(self.memory, self.batch_size))\n",
    "            ss = np.vstack(minibatch[:,0])\n",
    "            acs = np.vstack(minibatch[:,1])\n",
    "            rs = np.vstack(minibatch[:,2])\n",
    "            nss = np.vstack(minibatch[:,3])\n",
    "            ds = np.vstack(minibatch[:,4])\n",
    "            self.sess.run(self.atrain, {self.S: ss})\n",
    "            self.sess.run(self.ctrain, {self.S: ss, self.a: acs, self.R: rs,\n",
    "                                        self.S_: nss, self.D: ds})\n",
    "    \n",
    "    def update_target_net(self):\n",
    "        self.sess.run(self.soft_update_op)"
   ]
  },
  {
   "cell_type": "code",
   "execution_count": 3,
   "metadata": {},
   "outputs": [
    {
     "name": "stdout",
     "output_type": "stream",
     "text": [
      "\u001b[33mWARN: gym.spaces.Box autodetected dtype as <class 'numpy.float32'>. Please provide explicit dtype.\u001b[0m\n",
      "\u001b[33mWARN: gym.spaces.Box autodetected dtype as <class 'numpy.float32'>. Please provide explicit dtype.\u001b[0m\n"
     ]
    }
   ],
   "source": [
    "import gym\n",
    "env = gym.make('MountainCarContinuous-v0')"
   ]
  },
  {
   "cell_type": "code",
   "execution_count": 10,
   "metadata": {
    "collapsed": true
   },
   "outputs": [],
   "source": [
    "agent = DDPGAgent(2, 1, tau=0.9)"
   ]
  },
  {
   "cell_type": "code",
   "execution_count": 11,
   "metadata": {},
   "outputs": [
    {
     "name": "stdout",
     "output_type": "stream",
     "text": [
      "steps 8432 mean r -65.30 variance 2.76\n",
      "steps 18422 mean r -73.60 variance 2.49\n",
      "steps 28412 mean r -75.84 variance 2.26\n",
      "steps 38402 mean r -76.51 variance 2.04\n",
      "steps 48392 mean r -76.31 variance 1.85\n",
      "steps 55217 mean r -61.48 variance 1.73\n",
      "steps 57312 mean r -40.28 variance 1.69\n",
      "steps 59167 mean r -24.21 variance 1.66\n",
      "steps 60823 mean r -11.63 variance 1.63\n",
      "steps 62681 mean r -1.72 variance 1.60\n",
      "steps 64404 mean r 12.91 variance 1.57\n",
      "steps 66250 mean r 29.72 variance 1.55\n",
      "steps 67905 mean r 46.54 variance 1.52\n",
      "steps 69802 mean r 63.01 variance 1.49\n",
      "steps 71740 mean r 79.17 variance 1.46\n",
      "steps 73315 mean r 86.94 variance 1.44\n",
      "steps 74904 mean r 87.32 variance 1.42\n",
      "steps 76382 mean r 87.61 variance 1.40\n",
      "steps 77839 mean r 87.77 variance 1.38\n",
      "steps 79248 mean r 88.10 variance 1.36\n",
      "steps 80821 mean r 88.27 variance 1.34\n",
      "steps 82159 mean r 88.62 variance 1.32\n",
      "steps 83730 mean r 88.69 variance 1.30\n",
      "steps 85223 mean r 89.03 variance 1.28\n",
      "steps 86773 mean r 89.38 variance 1.26\n",
      "steps 88196 mean r 89.48 variance 1.24\n",
      "steps 89557 mean r 89.68 variance 1.22\n",
      "steps 90994 mean r 89.71 variance 1.21\n",
      "steps 92449 mean r 89.76 variance 1.19\n",
      "steps 93909 mean r 89.78 variance 1.17\n",
      "steps 95330 mean r 89.89 variance 1.16\n",
      "steps 96752 mean r 89.85 variance 1.14\n",
      "steps 98165 mean r 90.01 variance 1.12\n",
      "steps 99470 mean r 90.14 variance 1.11\n",
      "Training time : 198.12 s\n"
     ]
    }
   ],
   "source": [
    "# no param noise\n",
    "rs = [0.0]\n",
    "\n",
    "ep_experience = Episode_experience()\n",
    "state = env.reset()\n",
    "variance = 3\n",
    "\n",
    "start_time = time.clock()\n",
    "for t in range(int(1e5)):\n",
    "    action = agent.choose_action([state], variance)\n",
    "    next_state, reward, done, _ = env.step(action)\n",
    "    ep_experience.add(state, action, reward, next_state, done)\n",
    "    agent.remember(ep_experience)  \n",
    "    ep_experience.clear()\n",
    "    rs[-1]+=reward\n",
    "    state = next_state\n",
    "    if done:\n",
    "        state = env.reset()\n",
    "        rs += [0.0]\n",
    "    if t%50==0:\n",
    "        variance *= 0.9995\n",
    "        agent.replay(20)\n",
    "        agent.update_target_net()\n",
    "    if done and len(rs)%10==0:\n",
    "        print(\"steps\", t, \"mean r %.2f\"%np.mean(rs[-101:-1]), \"variance %.2f\"%variance)\n",
    "        \n",
    "print(\"Training time : %.2f\"%(time.clock()-start_time), \"s\")"
   ]
  },
  {
   "cell_type": "code",
   "execution_count": 13,
   "metadata": {},
   "outputs": [
    {
     "name": "stdout",
     "output_type": "stream",
     "text": [
      "reward : 93.38472572132696\n",
      "reward : 90.47040310093823\n",
      "reward : 90.62830799629832\n",
      "reward : 93.39636061649777\n",
      "reward : 90.62381709016852\n"
     ]
    }
   ],
   "source": [
    "actions = []\n",
    "for _ in range(5):\n",
    "    state = env.reset()\n",
    "    r = 0\n",
    "    while True:\n",
    "#         env.render()\n",
    "        action = agent.choose_action([state], 0)\n",
    "        next_state, reward, done, _ = env.step(action)\n",
    "        r += reward\n",
    "        state = next_state\n",
    "        if done:\n",
    "            break\n",
    "    print(\"reward :\", r)"
   ]
  },
  {
   "cell_type": "code",
   "execution_count": null,
   "metadata": {
    "collapsed": true
   },
   "outputs": [],
   "source": []
  }
 ],
 "metadata": {
  "kernelspec": {
   "display_name": "Python 3",
   "language": "python",
   "name": "python3"
  },
  "language_info": {
   "codemirror_mode": {
    "name": "ipython",
    "version": 3
   },
   "file_extension": ".py",
   "mimetype": "text/x-python",
   "name": "python",
   "nbconvert_exporter": "python",
   "pygments_lexer": "ipython3",
   "version": "3.6.1"
  }
 },
 "nbformat": 4,
 "nbformat_minor": 2
}
