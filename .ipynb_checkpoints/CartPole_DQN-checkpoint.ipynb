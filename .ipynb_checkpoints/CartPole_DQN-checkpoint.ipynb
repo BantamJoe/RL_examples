{
 "cells": [
  {
   "cell_type": "code",
   "execution_count": 1,
   "metadata": {},
   "outputs": [
    {
     "name": "stderr",
     "output_type": "stream",
     "text": [
      "C:\\Users\\kwea123\\Anaconda3\\lib\\site-packages\\h5py\\__init__.py:34: FutureWarning: Conversion of the second argument of issubdtype from `float` to `np.floating` is deprecated. In future, it will be treated as `np.float64 == np.dtype(float).type`.\n",
      "  from ._conv import register_converters as _register_converters\n"
     ]
    }
   ],
   "source": [
    "import numpy as np\n",
    "import matplotlib.pyplot as plt\n",
    "import tensorflow as tf\n",
    "import time\n",
    "import random\n",
    "import gym"
   ]
  },
  {
   "cell_type": "code",
   "execution_count": 5,
   "metadata": {
    "collapsed": true
   },
   "outputs": [],
   "source": [
    "class Episode_experience():\n",
    "    def __init__(self):\n",
    "        self.memory = []\n",
    "        \n",
    "    def add(self, state, action, reward, next_state, done):\n",
    "        self.memory += [(state, action, reward, next_state, done)]\n",
    "        \n",
    "    def clear(self):\n",
    "        self.memory = []\n",
    "        \n",
    "class DQNAgent():\n",
    "    def __init__(self, state_size, action_size, use_double_dqn=True, clip_target_value=False,\n",
    "                 use_layer_norm=True, clip_target_min=-np.inf, clip_target_max=np.inf):\n",
    "        self.state_size = state_size\n",
    "        self.action_size = action_size\n",
    "        self.use_double_dqn = use_double_dqn\n",
    "        self.clip_target_value = clip_target_value\n",
    "        self.clip_target_min = clip_target_min\n",
    "        self.clip_target_max = clip_target_max\n",
    "        self.memory = []\n",
    "        self.epsilon = 1.0 # exploration\n",
    "        self.epsilon_min = 0.1 # min exploration\n",
    "        self.epsilon_decay = 0.9\n",
    "        self.gamma = 0.98\n",
    "        self.batch_size = 32\n",
    "        self.learning_rate = 1e-3\n",
    "        self.gradient_norm_clip = 10 # clip the gradient\n",
    "        self.buffer_size = int(5e4)\n",
    "        self._set_model(use_layer_norm=use_layer_norm)\n",
    "        \n",
    "    def _set_model(self, use_layer_norm): # set value network\n",
    "        tf.reset_default_graph()\n",
    "        self.sess = tf.Session()\n",
    "        \n",
    "        self.tfs = tf.placeholder(tf.float32, [None, self.state_size], 'state')\n",
    "        self.tfs_ = tf.placeholder(tf.float32, [None, self.state_size], 'next_state')\n",
    "        self.tfa = tf.placeholder(tf.int32, [None, ], 'action')\n",
    "        self.tfr = tf.placeholder(tf.float32, [None, ], 'reward')\n",
    "        self.tfd = tf.placeholder(tf.float32, [None, ], 'done')\n",
    "        \n",
    "        def _build_qnet(state, scope, reuse=False):\n",
    "            with tf.variable_scope(scope, reuse=reuse):\n",
    "                if use_layer_norm:\n",
    "                    net = tf.layers.dense(state, 64)\n",
    "                    net = tf.contrib.layers.layer_norm(net, activation_fn=tf.nn.relu)\n",
    "                else:\n",
    "                    net = tf.layers.dense(state, 64, activation=tf.nn.relu)\n",
    "                q = tf.layers.dense(net, self.action_size)\n",
    "            return q, tf.get_collection(tf.GraphKeys.GLOBAL_VARIABLES, scope=scope)\n",
    "        \n",
    "        self.q_eval, self.e_params = _build_qnet(self.tfs, 'eval')\n",
    "        self.q_targ, self.t_params = _build_qnet(self.tfs_, 'target')\n",
    "        self.update_op = [tf.assign(t, e) for t, e in zip(self.t_params, self.e_params)] # update target network op\n",
    "        \n",
    "        if self.use_double_dqn:\n",
    "            q_eval_next, _ = _build_qnet(self.tfs_, 'eval', reuse=True) # reuse the same eval net\n",
    "            q_eval_next_best_action = tf.argmax(q_eval_next, 1)\n",
    "            self.q_target_value = tf.reduce_sum(self.q_targ * tf.one_hot(q_eval_next_best_action, self.action_size), 1)\n",
    "        else:\n",
    "            self.q_target_value = tf.reduce_max(self.q_targ, 1)\n",
    "            \n",
    "        self.q_target_value = self.tfr + self.gamma * (1-self.tfd) * self.q_target_value\n",
    "        \n",
    "        if self.clip_target_value:\n",
    "            self.q_target_value = tf.clip_by_value(self.q_target_value, self.clip_target_min, self.clip_target_max)\n",
    "        \n",
    "        self.q_eval_value = tf.reduce_sum(self.q_eval * tf.one_hot(self.tfa, self.action_size), 1)\n",
    "        \n",
    "        self.loss = tf.losses.huber_loss(self.q_target_value, self.q_eval_value) # define loss\n",
    "        \n",
    "        optimizer = tf.train.AdamOptimizer(self.learning_rate)\n",
    "        if self.gradient_norm_clip is not None:\n",
    "            gradients = optimizer.compute_gradients(self.loss, var_list=self.e_params) # only update e_params\n",
    "            for i, (grad, var) in enumerate(gradients):\n",
    "                if grad is not None:\n",
    "                    gradients[i] = (tf.clip_by_norm(grad, self.gradient_norm_clip), var)\n",
    "            self.train_op = optimizer.apply_gradients(gradients)\n",
    "        else:\n",
    "            self.train_op = optimizer.minimize(self.loss, var_list=self.e_params) # only update e_params\n",
    "        \n",
    "        self.saver = tf.train.Saver()\n",
    "        \n",
    "        self.sess.run(tf.global_variables_initializer())\n",
    "        \n",
    "    def choose_action(self, state):\n",
    "        if np.random.rand() <= self.epsilon:\n",
    "            return np.random.randint(self.action_size)\n",
    "        act_values = self.sess.run(self.q_eval, {self.tfs: state})\n",
    "        return np.argmax(act_values[0])\n",
    "    \n",
    "    def remember(self, ep_experience):\n",
    "        self.memory += ep_experience.memory\n",
    "        if len(self.memory) > self.buffer_size:\n",
    "            self.memory = self.memory[-self.buffer_size:] # empty the first memories\n",
    "        \n",
    "    def replay(self, optimization_steps=1):\n",
    "        if len(self.memory) < self.batch_size: # if there's no enough transitions, do nothing\n",
    "            return 0\n",
    "        \n",
    "        losses = 0\n",
    "        for _ in range(optimization_steps):\n",
    "            minibatch = np.vstack(random.sample(self.memory, self.batch_size))\n",
    "            ss = np.vstack(minibatch[:,0])\n",
    "            acs = minibatch[:,1]\n",
    "            rs = minibatch[:,2]\n",
    "            nss = np.vstack(minibatch[:,3])\n",
    "            ds = minibatch[:,4]\n",
    "            loss, _ = self.sess.run([self.loss, self.train_op], \n",
    "                                    {self.tfs: ss, self.tfa: acs,\n",
    "                                     self.tfr: rs, self.tfs_: nss, self.tfd: ds})\n",
    "            \n",
    "            losses += loss\n",
    "        \n",
    "        return losses/optimization_steps # return mean loss\n",
    "    \n",
    "    def update_target_net(self, decay=True):\n",
    "        self.sess.run(self.update_op)\n",
    "        if decay:\n",
    "            self.epsilon = max(self.epsilon*self.epsilon_decay, self.epsilon_min)"
   ]
  },
  {
   "cell_type": "markdown",
   "metadata": {},
   "source": [
    "# Create agent and environment"
   ]
  },
  {
   "cell_type": "code",
   "execution_count": 6,
   "metadata": {
    "scrolled": true
   },
   "outputs": [
    {
     "name": "stdout",
     "output_type": "stream",
     "text": [
      "\u001b[33mWARN: gym.spaces.Box autodetected dtype as <class 'numpy.float32'>. Please provide explicit dtype.\u001b[0m\n"
     ]
    }
   ],
   "source": [
    "env = gym.make('CartPole-v0')\n",
    "agent = DQNAgent(4, 2)"
   ]
  },
  {
   "cell_type": "markdown",
   "metadata": {},
   "source": [
    "____\n",
    "# Training"
   ]
  },
  {
   "cell_type": "code",
   "execution_count": 7,
   "metadata": {
    "scrolled": false
   },
   "outputs": [
    {
     "name": "stdout",
     "output_type": "stream",
     "text": [
      "steps 154 mean r 17.22\n",
      "steps 388 mean r 20.47\n",
      "steps 575 mean r 19.86\n",
      "steps 760 mean r 19.51\n",
      "steps 957 mean r 19.55\n",
      "steps 1230 mean r 20.86\n",
      "steps 1440 mean r 20.88\n",
      "steps 1625 mean r 20.58\n",
      "steps 1819 mean r 20.45\n",
      "steps 2062 mean r 20.84\n",
      "steps 2280 mean r 21.26\n",
      "steps 2517 mean r 21.29\n",
      "steps 2839 mean r 22.64\n",
      "steps 3111 mean r 23.51\n",
      "steps 3392 mean r 24.35\n",
      "steps 3816 mean r 25.86\n",
      "steps 4290 mean r 28.50\n",
      "steps 4880 mean r 32.55\n",
      "steps 5734 mean r 39.15\n",
      "steps 7497 mean r 54.35\n",
      "steps 9359 mean r 70.79\n",
      "steps 11350 mean r 88.33\n",
      "steps 13133 mean r 102.94\n",
      "steps 15063 mean r 119.52\n",
      "steps 16931 mean r 135.39\n",
      "steps 18927 mean r 151.11\n",
      "steps 20876 mean r 165.86\n",
      "steps 22876 mean r 179.96\n",
      "steps 24831 mean r 190.97\n",
      "steps 26679 mean r 191.82\n",
      "steps 28409 mean r 190.50\n",
      "steps 30064 mean r 187.14\n",
      "steps 31377 mean r 182.44\n",
      "steps 33015 mean r 179.52\n",
      "steps 34270 mean r 173.39\n",
      "steps 35728 mean r 168.01\n",
      "steps 37413 mean r 165.37\n",
      "steps 39413 mean r 165.37\n",
      "steps 41086 mean r 162.55\n",
      "steps 42783 mean r 161.04\n",
      "steps 44783 mean r 163.74\n",
      "steps 46201 mean r 161.37\n",
      "steps 46893 mean r 155.16\n",
      "steps 48138 mean r 151.23\n",
      "steps 49766 mean r 154.96\n",
      "steps 51273 mean r 155.45\n",
      "steps 52887 mean r 154.74\n",
      "steps 54691 mean r 152.78\n",
      "steps 56573 mean r 154.87\n",
      "steps 58573 mean r 157.90\n",
      "steps 60541 mean r 157.58\n",
      "steps 62486 mean r 162.85\n",
      "steps 64359 mean r 174.66\n",
      "steps 66263 mean r 181.25\n",
      "steps 67940 mean r 181.74\n",
      "steps 69691 mean r 184.18\n",
      "steps 71307 mean r 184.20\n",
      "steps 72835 mean r 181.44\n",
      "steps 74376 mean r 178.03\n",
      "steps 76197 mean r 176.24\n",
      "steps 78166 mean r 176.25\n",
      "steps 80015 mean r 175.29\n",
      "steps 81690 mean r 173.31\n",
      "steps 83558 mean r 172.95\n",
      "steps 85393 mean r 174.53\n",
      "steps 87393 mean r 177.02\n",
      "steps 89270 mean r 179.63\n",
      "steps 91154 mean r 183.19\n",
      "steps 93136 mean r 187.60\n",
      "steps 95010 mean r 188.13\n",
      "steps 96850 mean r 186.84\n",
      "steps 98686 mean r 186.71\n",
      "Training time : 348.14 s\n"
     ]
    }
   ],
   "source": [
    "losses = []\n",
    "rs = [0.0]\n",
    "\n",
    "ep_experience = Episode_experience()\n",
    "state = env.reset()\n",
    "\n",
    "start_time = time.clock()\n",
    "for t in range(int(1e5)):\n",
    "    action = agent.choose_action([state])\n",
    "    next_state, reward, done, _ = env.step(action)\n",
    "    ep_experience.add(state, action, reward, next_state, done)\n",
    "    agent.remember(ep_experience)  \n",
    "    ep_experience.clear()\n",
    "    rs[-1]+=reward\n",
    "    state = next_state\n",
    "    if done:\n",
    "        state = env.reset()\n",
    "        rs += [0.0]\n",
    "    if t>1000:\n",
    "        losses+=[agent.replay(1)]\n",
    "    if t>1000 and t%500==0:\n",
    "        agent.update_target_net()\n",
    "    if done and len(rs)%10==0:\n",
    "        print(\"steps\", t, \"mean r %.2f\"%np.mean(rs[-101:-1])) # mean over last 100 episodes\n",
    "        \n",
    "print(\"Training time : %.2f\"%(time.clock()-start_time), \"s\")"
   ]
  },
  {
   "cell_type": "markdown",
   "metadata": {},
   "source": [
    "____\n",
    "# Testing"
   ]
  },
  {
   "cell_type": "code",
   "execution_count": 9,
   "metadata": {},
   "outputs": [
    {
     "name": "stdout",
     "output_type": "stream",
     "text": [
      "rew : 200.0\n",
      "rew : 196.0\n",
      "rew : 200.0\n",
      "rew : 189.0\n",
      "rew : 189.0\n"
     ]
    }
   ],
   "source": [
    "for _ in range(5):\n",
    "    state = env.reset()\n",
    "    r = 0\n",
    "    while True:\n",
    "        env.render()\n",
    "        action = agent.choose_action([state])\n",
    "        next_state, reward, done, _ = env.step(action)\n",
    "        r += reward\n",
    "        state = next_state\n",
    "        if done:\n",
    "            break\n",
    "    print(\"rew :\", r)"
   ]
  },
  {
   "cell_type": "code",
   "execution_count": 10,
   "metadata": {
    "collapsed": true
   },
   "outputs": [],
   "source": [
    "env.close()"
   ]
  },
  {
   "cell_type": "code",
   "execution_count": null,
   "metadata": {
    "collapsed": true
   },
   "outputs": [],
   "source": []
  }
 ],
 "metadata": {
  "kernelspec": {
   "display_name": "Python 3",
   "language": "python",
   "name": "python3"
  },
  "language_info": {
   "codemirror_mode": {
    "name": "ipython",
    "version": 3
   },
   "file_extension": ".py",
   "mimetype": "text/x-python",
   "name": "python",
   "nbconvert_exporter": "python",
   "pygments_lexer": "ipython3",
   "version": "3.6.1"
  }
 },
 "nbformat": 4,
 "nbformat_minor": 2
}
